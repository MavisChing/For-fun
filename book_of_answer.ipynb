{
  "nbformat": 4,
  "nbformat_minor": 0,
  "metadata": {
    "colab": {
      "provenance": [],
      "authorship_tag": "ABX9TyM0uv9JSzMM9VPWUsmWbfwb",
      "include_colab_link": true
    },
    "kernelspec": {
      "name": "python3",
      "display_name": "Python 3"
    },
    "language_info": {
      "name": "python"
    }
  },
  "cells": [
    {
      "cell_type": "markdown",
      "metadata": {
        "id": "view-in-github",
        "colab_type": "text"
      },
      "source": [
        "<a href=\"https://colab.research.google.com/github/MavisChing/For-fun/blob/main/book_of_answer.ipynb\" target=\"_parent\"><img src=\"https://colab.research.google.com/assets/colab-badge.svg\" alt=\"Open In Colab\"/></a>"
      ]
    },
    {
      "cell_type": "code",
      "execution_count": null,
      "metadata": {
        "colab": {
          "base_uri": "https://localhost:8080/"
        },
        "id": "WtlVTyNlGbgd",
        "outputId": "1dc27020-de37-406e-a10f-ee4a05ebf060"
      },
      "outputs": [
        {
          "output_type": "stream",
          "name": "stdout",
          "text": [
            "When you're uncertain, the Book of Answers will provide you with answers...\n",
            "\n",
            "Focus on one question\n",
            "\n",
            "tell me your questionhow to be happy\n",
            "\n",
            "The journey of a thousand questions begins with a single inquiry.\n"
          ]
        }
      ],
      "source": [
        "import random\n",
        "answer=[\n",
        "    \"Embrace the unknown. Sometimes the best answers lie beyond the familiar\",\n",
        "    \"In every question lies an opportunity for growth and understanding.\",\n",
        "    \"Trust your intuition, for it often holds the answers you seek.\",\n",
        "    \"Remember, mistakes pave the path to wisdom. Embrace them as stepping stones.\",\n",
        "    \"The journey of a thousand questions begins with a single inquiry.\",\n",
        "    \"Seek clarity, for it illuminates the path to knowledge.\",\n",
        "    \"Open your mind to possibilities, and answers will find their way to you.\",\n",
        "    \"Patience and persistence are key; the answers you seek may not reveal themselves immediately.\",\n",
        "    \"Wisdom is not found solely in the answers but in the questions we dare to ask.\",\n",
        "    \"Every question holds the potential for growth and enlightenment.\",\n",
        "    \"Seek not only answers but also the questions that lead to deeper insights.\"\n",
        "    ]\n",
        "\n",
        "question = True\n",
        "while question:\n",
        "  print(\"When you're uncertain, the Book of Answers will provide you with answers...\")\n",
        "  print()\n",
        "  print(\"Focus on one question\")\n",
        "  print()\n",
        "  question=input('tell me your question')\n",
        "  print()\n",
        "  print(random.choice(answer))\n",
        "  break\n",
        "\n"
      ]
    }
  ]
}