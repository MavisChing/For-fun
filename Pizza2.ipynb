{
  "nbformat": 4,
  "nbformat_minor": 0,
  "metadata": {
    "colab": {
      "provenance": [],
      "authorship_tag": "ABX9TyOA7ByuTAb8XB3a9YieD3IM",
      "include_colab_link": true
    },
    "kernelspec": {
      "name": "python3",
      "display_name": "Python 3"
    },
    "language_info": {
      "name": "python"
    }
  },
  "cells": [
    {
      "cell_type": "markdown",
      "metadata": {
        "id": "view-in-github",
        "colab_type": "text"
      },
      "source": [
        "<a href=\"https://colab.research.google.com/github/MavisChing/For-fun/blob/main/Pizza2.ipynb\" target=\"_parent\"><img src=\"https://colab.research.google.com/assets/colab-badge.svg\" alt=\"Open In Colab\"/></a>"
      ]
    },
    {
      "cell_type": "code",
      "execution_count": 15,
      "metadata": {
        "colab": {
          "base_uri": "https://localhost:8080/"
        },
        "id": "aoQULKrCkUQS",
        "outputId": "57be74b4-aad0-44fd-dc96-567858b0e5c6"
      },
      "outputs": [
        {
          "output_type": "stream",
          "name": "stdout",
          "text": [
            "Welcome to Dough N Cheese, what can I get for you?\n",
            "Please choose a pizza:\n",
            "cheese\n",
            "pepperoni\n",
            "Which one would you like?pepperoni\n",
            "Would you like to order another pizza? (yes/no)no\n",
            "Would you like extra topping? (yes/no)no\n",
            "The total amount is 7.00\n"
          ]
        }
      ],
      "source": [
        "pizzas = ['cheese', 'pepperoni']\n",
        "toppings = ['peppers', 'onions']\n",
        "prices = {'cheese': 5, 'pepperoni': 7}\n",
        "toppings_price = {'peppers': 3, 'onions': 4}\n",
        "bill = []\n",
        "\n",
        "print('Welcome to Dough N Cheese, what can I get for you?')\n",
        "\n",
        "order_pizza = True\n",
        "while order_pizza:\n",
        "    print('Please choose a pizza:')\n",
        "    for pizza in pizzas:\n",
        "        print(pizza)\n",
        "\n",
        "    while True:\n",
        "        pizza_choice = input('Which one would you like?')\n",
        "        if pizza_choice in pizzas:\n",
        "            break\n",
        "        else:\n",
        "            print('Sorry, please choose from the menu')\n",
        "\n",
        "    pizza_price = prices[pizza_choice]\n",
        "    bill.append(pizza_price)\n",
        "\n",
        "    more_pizza = input('Would you like to order another pizza? (yes/no)')\n",
        "    if more_pizza == 'no':\n",
        "        order_pizza = False\n",
        "\n",
        "extra_topping = input('Would you like extra topping? (yes/no)')\n",
        "if extra_topping == 'yes':\n",
        "    extra_topping = True\n",
        "\n",
        "    while extra_topping:\n",
        "        print('Please choose a topping')\n",
        "        for topping in toppings:\n",
        "            print(topping)\n",
        "\n",
        "        while True:\n",
        "            topping_choice = input('Which one would you like?')\n",
        "            if topping_choice in toppings:\n",
        "                break\n",
        "            else:\n",
        "                print('Sorry, please choose from the menu')\n",
        "\n",
        "        topping_price = toppings_price[topping_choice]\n",
        "        bill.append(topping_price)\n",
        "\n",
        "        more_topping = input('Would you like to order another topping? (yes/no)')\n",
        "        if more_topping == 'no':\n",
        "            extra_topping = False\n",
        "\n",
        "total_amount = sum(bill)\n",
        "print(f\"The total amount is {total_amount:.2f}\")"
      ]
    }
  ]
}