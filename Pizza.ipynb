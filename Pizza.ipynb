{
  "nbformat": 4,
  "nbformat_minor": 0,
  "metadata": {
    "colab": {
      "provenance": []
    },
    "kernelspec": {
      "name": "python3",
      "display_name": "Python 3"
    },
    "language_info": {
      "name": "python"
    }
  },
  "cells": [
    {
      "cell_type": "code",
      "execution_count": 33,
      "metadata": {
        "colab": {
          "base_uri": "https://localhost:8080/"
        },
        "id": "aoQULKrCkUQS",
        "outputId": "6db49ed4-e83e-49f5-d1aa-b8767277da29"
      },
      "outputs": [
        {
          "output_type": "stream",
          "name": "stdout",
          "text": [
            "Please choose a pizza:\n",
            "cheese\n",
            "pepperoni\n",
            "Which one would you like?cheese\n",
            "The total amount is 5\n"
          ]
        }
      ],
      "source": [
        "pizzas = ['cheese', 'pepperoni']\n",
        "prices = {'cheese': 5, 'pepperoni': 7}\n",
        "bill = []\n",
        "\n",
        "order_pizza = True\n",
        "while order_pizza:\n",
        "    print('Please choose a pizza:')\n",
        "    for pizza in pizzas:\n",
        "        print(pizza)\n",
        "\n",
        "    while True:\n",
        "        pizza_choice = input('Which one would you like?')\n",
        "        if pizza_choice in pizzas:\n",
        "            bill.append(prices[pizza_choice])\n",
        "            break\n",
        "\n",
        "    more_pizza = input('Would you like to order another pizza? (yes/no)')\n",
        "    if more_pizza == 'no':\n",
        "        order_pizza = False\n",
        "\n",
        "total_amount = sum(bill)\n",
        "print(f\"The total amount is {total_amount}\")"
      ]
    }
  ]
}